{
  "nbformat": 4,
  "nbformat_minor": 0,
  "metadata": {
    "colab": {
      "provenance": []
    },
    "kernelspec": {
      "name": "python3",
      "display_name": "Python 3"
    },
    "language_info": {
      "name": "python"
    }
  },
  "cells": [
    {
      "cell_type": "code",
      "execution_count": 1,
      "metadata": {
        "id": "Tuyu2PqcaP81"
      },
      "outputs": [],
      "source": [
        "#Image Agumentation\n",
        "from tensorflow.keras.preprocessing.image import ImageDataGenerator"
      ]
    },
    {
      "cell_type": "code",
      "source": [
        "train_datagen = ImageDataGenerator(rescale=1./255,zoom_range=0.2,horizontal_flip=True,vertical_flip=True)"
      ],
      "metadata": {
        "id": "HAor_xJxdzGt"
      },
      "execution_count": 2,
      "outputs": []
    },
    {
      "cell_type": "code",
      "source": [
        "test_datagen = ImageDataGenerator(rescale=1./255)"
      ],
      "metadata": {
        "id": "m_ziGNEfd5Zk"
      },
      "execution_count": 5,
      "outputs": []
    },
    {
      "cell_type": "code",
      "source": [
        "xtrain = train_datagen.flow_from_directory(r\"/content/drive/MyDrive/flowers\",target_size=(64,64),class_mode='categorical',batch_size=100)"
      ],
      "metadata": {
        "colab": {
          "base_uri": "https://localhost:8080/"
        },
        "id": "BWO3wmGgeC6N",
        "outputId": "3b38a31d-36b4-4a55-ef8d-71b65d83700d"
      },
      "execution_count": 26,
      "outputs": [
        {
          "output_type": "stream",
          "name": "stdout",
          "text": [
            "Found 4317 images belonging to 5 classes.\n"
          ]
        }
      ]
    },
    {
      "cell_type": "code",
      "source": [
        "xtest = test_datagen.flow_from_directory(r\"/content/drive/MyDrive/flowers\",target_size=(64,64),class_mode='categorical',batch_size=100)\n"
      ],
      "metadata": {
        "colab": {
          "base_uri": "https://localhost:8080/"
        },
        "id": "PmmExk9qetPY",
        "outputId": "7ac390d0-39b6-42a0-fdf5-dd7f78b83631"
      },
      "execution_count": 27,
      "outputs": [
        {
          "output_type": "stream",
          "name": "stdout",
          "text": [
            "Found 4317 images belonging to 5 classes.\n"
          ]
        }
      ]
    },
    {
      "cell_type": "code",
      "source": [
        "#Create model\n",
        "from tensorflow.keras.models import Sequential\n",
        "from tensorflow.keras.layers import Convolution2D,MaxPooling2D,Flatten,Dense"
      ],
      "metadata": {
        "id": "3JFd69Hde9Xw"
      },
      "execution_count": 29,
      "outputs": []
    },
    {
      "cell_type": "code",
      "source": [
        "model = Sequential()"
      ],
      "metadata": {
        "id": "3TdD5t2efFak"
      },
      "execution_count": 30,
      "outputs": []
    },
    {
      "cell_type": "code",
      "source": [
        "#Convolution layer\n",
        "model.add(Convolution2D(32,(3,3),activation='relu',input_shape=(64,64,3)))"
      ],
      "metadata": {
        "id": "mj16e_o8fJb_"
      },
      "execution_count": 31,
      "outputs": []
    },
    {
      "cell_type": "code",
      "source": [
        "#maxpooling\n",
        "model.add(MaxPooling2D(pool_size=(2,2)))"
      ],
      "metadata": {
        "id": "qZKIHRZxfRkP"
      },
      "execution_count": 32,
      "outputs": []
    },
    {
      "cell_type": "code",
      "source": [
        "#Flatten\n",
        "model.add(Flatten())"
      ],
      "metadata": {
        "id": "VhIdLA5hfVqx"
      },
      "execution_count": 33,
      "outputs": []
    },
    {
      "cell_type": "code",
      "source": [
        "#Dense layer\n",
        "model.add(Dense(300,activation='relu')) #hiddenlayer 1\n",
        "model.add(Dense(300,activation='relu')) #hiddenlayer 2\n",
        "model.add(Dense(150,activation='relu')) #hiddenlayer 3"
      ],
      "metadata": {
        "id": "GqdMcgPMfhS3"
      },
      "execution_count": 34,
      "outputs": []
    },
    {
      "cell_type": "code",
      "source": [
        "#Output layer\n",
        "model.add(Dense(5,activation='softmax'))"
      ],
      "metadata": {
        "id": "mTLKpYjofmxy"
      },
      "execution_count": 35,
      "outputs": []
    },
    {
      "cell_type": "code",
      "source": [
        "#Compile the model\n",
        "model.compile(optimizer='adam',loss='categorical_crossentropy',metrics=['accuracy'])"
      ],
      "metadata": {
        "id": "anEBU7Xsfrec"
      },
      "execution_count": 36,
      "outputs": []
    },
    {
      "cell_type": "code",
      "source": [
        "model.fit_generator(xtrain,\n",
        "                    steps_per_epoch=len(xtrain),\n",
        "                    epochs=10,                \n",
        "                    validation_data=xtest,\n",
        "                    validation_steps=len(xtest))"
      ],
      "metadata": {
        "colab": {
          "base_uri": "https://localhost:8080/"
        },
        "id": "CDGikpzkfvyh",
        "outputId": "a0ba7f65-5440-4b8f-bc57-3291f9d691be"
      },
      "execution_count": 37,
      "outputs": [
        {
          "output_type": "stream",
          "name": "stderr",
          "text": [
            "/usr/local/lib/python3.7/dist-packages/ipykernel_launcher.py:5: UserWarning: `Model.fit_generator` is deprecated and will be removed in a future version. Please use `Model.fit`, which supports generators.\n",
            "  \"\"\"\n"
          ]
        },
        {
          "output_type": "stream",
          "name": "stdout",
          "text": [
            "Epoch 1/10\n",
            "44/44 [==============================] - 535s 12s/step - loss: 1.4173 - accuracy: 0.3998 - val_loss: 1.2605 - val_accuracy: 0.4804\n",
            "Epoch 2/10\n",
            "44/44 [==============================] - 56s 1s/step - loss: 1.1266 - accuracy: 0.5319 - val_loss: 1.2064 - val_accuracy: 0.5038\n",
            "Epoch 3/10\n",
            "44/44 [==============================] - 56s 1s/step - loss: 1.0562 - accuracy: 0.5768 - val_loss: 1.0953 - val_accuracy: 0.5715\n",
            "Epoch 4/10\n",
            "44/44 [==============================] - 58s 1s/step - loss: 0.9895 - accuracy: 0.6067 - val_loss: 1.1026 - val_accuracy: 0.5654\n",
            "Epoch 5/10\n",
            "44/44 [==============================] - 56s 1s/step - loss: 0.9293 - accuracy: 0.6361 - val_loss: 1.0087 - val_accuracy: 0.6208\n",
            "Epoch 6/10\n",
            "44/44 [==============================] - 56s 1s/step - loss: 0.9001 - accuracy: 0.6463 - val_loss: 0.9558 - val_accuracy: 0.6315\n",
            "Epoch 7/10\n",
            "44/44 [==============================] - 58s 1s/step - loss: 0.8577 - accuracy: 0.6637 - val_loss: 0.9713 - val_accuracy: 0.6259\n",
            "Epoch 8/10\n",
            "44/44 [==============================] - 56s 1s/step - loss: 0.8219 - accuracy: 0.6926 - val_loss: 0.9039 - val_accuracy: 0.6574\n",
            "Epoch 9/10\n",
            "44/44 [==============================] - 56s 1s/step - loss: 0.8021 - accuracy: 0.6877 - val_loss: 0.8308 - val_accuracy: 0.6903\n",
            "Epoch 10/10\n",
            "44/44 [==============================] - 58s 1s/step - loss: 0.7763 - accuracy: 0.7003 - val_loss: 0.8645 - val_accuracy: 0.6741\n"
          ]
        },
        {
          "output_type": "execute_result",
          "data": {
            "text/plain": [
              "<keras.callbacks.History at 0x7f016180a910>"
            ]
          },
          "metadata": {},
          "execution_count": 37
        }
      ]
    },
    {
      "cell_type": "code",
      "source": [
        "#saving\n",
        "model.save('Flowers.h5')"
      ],
      "metadata": {
        "id": "QV-9qtsTiIjn"
      },
      "execution_count": 39,
      "outputs": []
    },
    {
      "cell_type": "code",
      "source": [
        "#Testing the model\n",
        "import numpy as np\n",
        "from tensorflow.keras.preprocessing import image\n"
      ],
      "metadata": {
        "id": "K1qLXmPriPR6"
      },
      "execution_count": 40,
      "outputs": []
    },
    {
      "cell_type": "code",
      "source": [
        "img = image.load_img(r\"/content/drive/MyDrive/flowers/sunflower/3840761441_7c648abf4d_n.jpg\",target_size=(64,64))"
      ],
      "metadata": {
        "id": "0maIk1BSjPjK"
      },
      "execution_count": 43,
      "outputs": []
    },
    {
      "cell_type": "code",
      "source": [
        "img"
      ],
      "metadata": {
        "colab": {
          "base_uri": "https://localhost:8080/",
          "height": 81
        },
        "id": "-1oNcRX9t-T7",
        "outputId": "87d779ee-b8ea-4b26-acc9-edd14dc400f7"
      },
      "execution_count": 44,
      "outputs": [
        {
          "output_type": "execute_result",
          "data": {
            "text/plain": [
              "<PIL.Image.Image image mode=RGB size=64x64 at 0x7F0161788510>"
            ],
            "image/png": "[encoded data removed]"
          },
          "metadata": {},
          "execution_count": 44
        }
      ]
    },
    {
      "cell_type": "code",
      "source": [
        "x = image.img_to_array(img)\n",
        "x"
      ],
      "metadata": {
        "colab": {
          "base_uri": "https://localhost:8080/"
        },
        "id": "4ueFfxG0uiXB",
        "outputId": "96564459-9093-4af9-d437-d389a2eb2dd9"
      },
      "execution_count": 45,
      "outputs": [
        {
          "output_type": "execute_result",
          "data": {
            "text/plain": [
              "array([[[  0.,   0.,   0.],\n",
              "        [  0.,   0.,   0.],\n",
              "        [  0.,   0.,   0.],\n",
              "        ...,\n",
              "        [ 67.,  39.,  27.],\n",
              "        [ 62.,  31.,  26.],\n",
              "        [ 63.,  63.,  61.]],\n",
              "\n",
              "       [[  0.,   0.,   0.],\n",
              "        [  0.,   0.,   0.],\n",
              "        [  0.,   0.,   0.],\n",
              "        ...,\n",
              "        [ 66.,  38.,  26.],\n",
              "        [ 64.,  35.,  29.],\n",
              "        [ 76.,  78.,  75.]],\n",
              "\n",
              "       [[  0.,   0.,   0.],\n",
              "        [  0.,   0.,   0.],\n",
              "        [  0.,   0.,   0.],\n",
              "        ...,\n",
              "        [ 63.,  35.,  24.],\n",
              "        [ 62.,  35.,  28.],\n",
              "        [ 71.,  71.,  69.]],\n",
              "\n",
              "       ...,\n",
              "\n",
              "       [[  7.,   7.,   5.],\n",
              "        [ 10.,  10.,   8.],\n",
              "        [ 22.,  12.,  10.],\n",
              "        ...,\n",
              "        [157., 156., 151.],\n",
              "        [142., 147., 141.],\n",
              "        [ 85.,  77.,  56.]],\n",
              "\n",
              "       [[141., 153., 153.],\n",
              "        [181., 208., 203.],\n",
              "        [183., 194., 188.],\n",
              "        ...,\n",
              "        [157., 158., 152.],\n",
              "        [161., 162., 154.],\n",
              "        [153., 154., 146.]],\n",
              "\n",
              "       [[189., 188., 184.],\n",
              "        [159., 158., 153.],\n",
              "        [147., 149., 144.],\n",
              "        ...,\n",
              "        [161., 162., 156.],\n",
              "        [162., 163., 155.],\n",
              "        [160., 160., 152.]]], dtype=float32)"
            ]
          },
          "metadata": {},
          "execution_count": 45
        }
      ]
    },
    {
      "cell_type": "code",
      "source": [
        "x = np.expand_dims(x,axis=0)\n",
        "x"
      ],
      "metadata": {
        "colab": {
          "base_uri": "https://localhost:8080/"
        },
        "id": "N_iy4f9eunIb",
        "outputId": "9aed00af-0ba7-4648-9afa-780491758d94"
      },
      "execution_count": 46,
      "outputs": [
        {
          "output_type": "execute_result",
          "data": {
            "text/plain": [
              "array([[[[  0.,   0.,   0.],\n",
              "         [  0.,   0.,   0.],\n",
              "         [  0.,   0.,   0.],\n",
              "         ...,\n",
              "         [ 67.,  39.,  27.],\n",
              "         [ 62.,  31.,  26.],\n",
              "         [ 63.,  63.,  61.]],\n",
              "\n",
              "        [[  0.,   0.,   0.],\n",
              "         [  0.,   0.,   0.],\n",
              "         [  0.,   0.,   0.],\n",
              "         ...,\n",
              "         [ 66.,  38.,  26.],\n",
              "         [ 64.,  35.,  29.],\n",
              "         [ 76.,  78.,  75.]],\n",
              "\n",
              "        [[  0.,   0.,   0.],\n",
              "         [  0.,   0.,   0.],\n",
              "         [  0.,   0.,   0.],\n",
              "         ...,\n",
              "         [ 63.,  35.,  24.],\n",
              "         [ 62.,  35.,  28.],\n",
              "         [ 71.,  71.,  69.]],\n",
              "\n",
              "        ...,\n",
              "\n",
              "        [[  7.,   7.,   5.],\n",
              "         [ 10.,  10.,   8.],\n",
              "         [ 22.,  12.,  10.],\n",
              "         ...,\n",
              "         [157., 156., 151.],\n",
              "         [142., 147., 141.],\n",
              "         [ 85.,  77.,  56.]],\n",
              "\n",
              "        [[141., 153., 153.],\n",
              "         [181., 208., 203.],\n",
              "         [183., 194., 188.],\n",
              "         ...,\n",
              "         [157., 158., 152.],\n",
              "         [161., 162., 154.],\n",
              "         [153., 154., 146.]],\n",
              "\n",
              "        [[189., 188., 184.],\n",
              "         [159., 158., 153.],\n",
              "         [147., 149., 144.],\n",
              "         ...,\n",
              "         [161., 162., 156.],\n",
              "         [162., 163., 155.],\n",
              "         [160., 160., 152.]]]], dtype=float32)"
            ]
          },
          "metadata": {},
          "execution_count": 46
        }
      ]
    },
    {
      "cell_type": "code",
      "source": [
        "model.predict(x)"
      ],
      "metadata": {
        "colab": {
          "base_uri": "https://localhost:8080/"
        },
        "id": "NkVxgZcdutLk",
        "outputId": "9b10db6b-967a-460d-cccc-8b1e7345a2cc"
      },
      "execution_count": 47,
      "outputs": [
        {
          "output_type": "execute_result",
          "data": {
            "text/plain": [
              "array([[0., 0., 0., 1., 0.]], dtype=float32)"
            ]
          },
          "metadata": {},
          "execution_count": 47
        }
      ]
    },
    {
      "cell_type": "code",
      "source": [
        "xtrain.class_indices"
      ],
      "metadata": {
        "colab": {
          "base_uri": "https://localhost:8080/"
        },
        "id": "tgplDp61ux3i",
        "outputId": "bad88455-4b60-42b0-bb20-132b5c795c04"
      },
      "execution_count": 48,
      "outputs": [
        {
          "output_type": "execute_result",
          "data": {
            "text/plain": [
              "{'daisy': 0, 'dandelion': 1, 'rose': 2, 'sunflower': 3, 'tulip': 4}"
            ]
          },
          "metadata": {},
          "execution_count": 48
        }
      ]
    },
    {
      "cell_type": "code",
      "source": [
        "op = ['daisy','dandelion','rose','sunflower','tulip']\n",
        "pred = np.argmax(model.predict(x))\n",
        "op[pred]"
      ],
      "metadata": {
        "colab": {
          "base_uri": "https://localhost:8080/",
          "height": 36
        },
        "id": "mfJP6ISsu2O3",
        "outputId": "6f57c308-a7d3-46c2-d3d9-082cfc609529"
      },
      "execution_count": 49,
      "outputs": [
        {
          "output_type": "execute_result",
          "data": {
            "text/plain": [
              "'sunflower'"
            ],
            "application/vnd.google.colaboratory.intrinsic+json": {
              "type": "string"
            }
          },
          "metadata": {},
          "execution_count": 49
        }
      ]
    }
  ]
}
