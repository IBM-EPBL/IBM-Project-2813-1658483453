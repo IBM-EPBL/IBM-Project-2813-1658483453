{
 "cells": [
  {
   "cell_type": "code",
   "execution_count": 11,
   "id": "c67a554a",
   "metadata": {},
   "outputs": [],
   "source": [
    "import pandas as pd\n",
    "import numpy as np\n",
    "import matplotlib.pyplot as plt\n",
    "import seaborn as sns\n",
    "import matplotlib as plt\n",
    "from matplotlib import pyplot as plt\n",
    "import warnings\n",
    "warnings.filterwarnings(action = 'ignore')"
   ]
  },
  {
   "cell_type": "markdown",
   "id": "2ffab209",
   "metadata": {},
   "source": [
    "# Load the dataset."
   ]
  },
  {
   "cell_type": "code",
   "execution_count": 12,
   "id": "50b223a8",
   "metadata": {},
   "outputs": [],
   "source": [
    "data = pd.read_csv('C:/Users/praveen/Desktop/my drive/Churn_Modelling.csv')"
   ]
  },
  {
   "cell_type": "code",
   "execution_count": 13,
   "id": "cc4aaf64",
   "metadata": {},
   "outputs": [
    {
     "data": {
      "text/plain": [
       "RowNumber            int64\n",
       "CustomerId           int64\n",
       "Surname             object\n",
       "CreditScore          int64\n",
       "Geography           object\n",
       "Gender              object\n",
       "Age                  int64\n",
       "Tenure               int64\n",
       "Balance            float64\n",
       "NumOfProducts        int64\n",
       "HasCrCard            int64\n",
       "IsActiveMember       int64\n",
       "EstimatedSalary    float64\n",
       "Exited               int64\n",
       "dtype: object"
      ]
     },
     "execution_count": 13,
     "metadata": {},
     "output_type": "execute_result"
    }
   ],
   "source": [
    "data.dtypes"
   ]
  },
  {
   "cell_type": "code",
   "execution_count": 14,
   "id": "6db20b40",
   "metadata": {},
   "outputs": [
    {
     "data": {
      "text/plain": [
       "RowNumber            int64\n",
       "CustomerId           int64\n",
       "CreditScore          int64\n",
       "Age                  int64\n",
       "Tenure               int64\n",
       "Balance            float64\n",
       "NumOfProducts        int64\n",
       "HasCrCard            int64\n",
       "IsActiveMember       int64\n",
       "EstimatedSalary    float64\n",
       "Exited               int64\n",
       "dtype: object"
      ]
     },
     "execution_count": 14,
     "metadata": {},
     "output_type": "execute_result"
    }
   ],
   "source": [
    "data.select_dtypes(include=['int64','float64','Int64']).dtypes"
   ]
  },
  {
   "cell_type": "code",
   "execution_count": 15,
   "id": "9a5536f9",
   "metadata": {},
   "outputs": [
    {
     "data": {
      "text/html": [
       "<div>\n",
       "<style scoped>\n",
       "    .dataframe tbody tr th:only-of-type {\n",
       "        vertical-align: middle;\n",
       "    }\n",
       "\n",
       "    .dataframe tbody tr th {\n",
       "        vertical-align: top;\n",
       "    }\n",
       "\n",
       "    .dataframe thead th {\n",
       "        text-align: right;\n",
       "    }\n",
       "</style>\n",
       "<table border=\"1\" class=\"dataframe\">\n",
       "  <thead>\n",
       "    <tr style=\"text-align: right;\">\n",
       "      <th></th>\n",
       "      <th>Surname</th>\n",
       "      <th>RowNumber</th>\n",
       "      <th>Exited</th>\n",
       "    </tr>\n",
       "  </thead>\n",
       "  <tbody>\n",
       "    <tr>\n",
       "      <th>2473</th>\n",
       "      <td>Smith</td>\n",
       "      <td>32</td>\n",
       "      <td>0.281250</td>\n",
       "    </tr>\n",
       "    <tr>\n",
       "      <th>1689</th>\n",
       "      <td>Martin</td>\n",
       "      <td>29</td>\n",
       "      <td>0.310345</td>\n",
       "    </tr>\n",
       "    <tr>\n",
       "      <th>2389</th>\n",
       "      <td>Scott</td>\n",
       "      <td>29</td>\n",
       "      <td>0.103448</td>\n",
       "    </tr>\n",
       "    <tr>\n",
       "      <th>2751</th>\n",
       "      <td>Walker</td>\n",
       "      <td>28</td>\n",
       "      <td>0.142857</td>\n",
       "    </tr>\n",
       "    <tr>\n",
       "      <th>336</th>\n",
       "      <td>Brown</td>\n",
       "      <td>26</td>\n",
       "      <td>0.192308</td>\n",
       "    </tr>\n",
       "  </tbody>\n",
       "</table>\n",
       "</div>"
      ],
      "text/plain": [
       "     Surname  RowNumber    Exited\n",
       "2473   Smith         32  0.281250\n",
       "1689  Martin         29  0.310345\n",
       "2389   Scott         29  0.103448\n",
       "2751  Walker         28  0.142857\n",
       "336    Brown         26  0.192308"
      ]
     },
     "execution_count": 15,
     "metadata": {},
     "output_type": "execute_result"
    }
   ],
   "source": [
    "data.groupby(['Surname']).agg({'RowNumber':'count', 'Exited':'mean'}\n",
    "                                  ).reset_index().sort_values(by='RowNumber', ascending=False).head()"
   ]
  },
  {
   "cell_type": "markdown",
   "id": "273cab0f",
   "metadata": {},
   "source": [
    "# Perform Below Visualizations."
   ]
  },
  {
   "cell_type": "code",
   "execution_count": 16,
   "id": "e76b7b18",
   "metadata": {},
   "outputs": [
    {
     "data": {
      "text/plain": [
       "<AxesSubplot:ylabel='CreditScore'>"
      ]
     },
     "execution_count": 16,
     "metadata": {},
     "output_type": "execute_result"
    },
    {
     "data": {
      "image/png": "[encoded data removed]",
      "text/plain": [
       "<Figure size 640x480 with 1 Axes>"
      ]
     },
     "metadata": {},
     "output_type": "display_data"
    }
   ],
   "source": [
    "sns.set(style=\"whitegrid\")\n",
    "sns.boxplot(y=data['CreditScore'])"
   ]
  },
  {
   "cell_type": "code",
   "execution_count": 17,
   "id": "60142a02",
   "metadata": {},
   "outputs": [
    {
     "name": "stdout",
     "output_type": "stream",
     "text": [
      "502\n",
      "159660.8\n"
     ]
    },
    {
     "data": {
      "image/png": "[encoded data removed]",
      "text/plain": [
       "<Figure size 640x480 with 1 Axes>"
      ]
     },
     "metadata": {},
     "output_type": "display_data"
    }
   ],
   "source": [
    "credit_score = data['CreditScore']\n",
    "balance = data['Balance']\n",
    "credit_score.dropna()\n",
    "balance.dropna()\n",
    "print(credit_score[2])\n",
    "print(balance[2])\n",
    "plt.scatter(credit_score , balance)\n",
    "plt.show()"
   ]
  },
  {
   "cell_type": "code",
   "execution_count": 18,
   "id": "7e2ea7cd",
   "metadata": {},
   "outputs": [
    {
     "data": {
      "image/png": "[encoded data removed]",
      "text/plain": [
       "<Figure size 640x480 with 2 Axes>"
      ]
     },
     "metadata": {},
     "output_type": "display_data"
    }
   ],
   "source": [
    "result = pd.pivot_table(data=data, index='Geography', columns='Tenure',values='Age')\n",
    "sns.heatmap(result, annot=True, cmap = 'RdYlGn_r').set_title('Multivariate analysis')\n",
    "plt.show()"
   ]
  },
  {
   "cell_type": "markdown",
   "id": "f6aed7a7",
   "metadata": {},
   "source": [
    "# Perform descriptive statistics on the dataset."
   ]
  },
  {
   "cell_type": "code",
   "execution_count": 19,
   "id": "505348d5",
   "metadata": {},
   "outputs": [
    {
     "data": {
      "text/plain": [
       "38.9218"
      ]
     },
     "execution_count": 19,
     "metadata": {},
     "output_type": "execute_result"
    }
   ],
   "source": [
    "data[\"Age\"].mean()"
   ]
  },
  {
   "cell_type": "code",
   "execution_count": 20,
   "id": "06df81d5",
   "metadata": {},
   "outputs": [
    {
     "name": "stdout",
     "output_type": "stream",
     "text": [
      "39\n"
     ]
    }
   ],
   "source": [
    "m=round(data[\"Age\"].mean())\n",
    "print(m)"
   ]
  },
  {
   "cell_type": "code",
   "execution_count": 21,
   "id": "36f6faf8",
   "metadata": {},
   "outputs": [
    {
     "data": {
      "text/plain": [
       "37.0"
      ]
     },
     "execution_count": 21,
     "metadata": {},
     "output_type": "execute_result"
    }
   ],
   "source": [
    "data[\"Age\"].median()"
   ]
  },
  {
   "cell_type": "code",
   "execution_count": 22,
   "id": "7f3ac943",
   "metadata": {},
   "outputs": [
    {
     "data": {
      "text/plain": [
       "0    37\n",
       "Name: Age, dtype: int64"
      ]
     },
     "execution_count": 22,
     "metadata": {},
     "output_type": "execute_result"
    }
   ],
   "source": [
    "data['Age'].mode()"
   ]
  },
  {
   "cell_type": "code",
   "execution_count": 23,
   "id": "23f606f9",
   "metadata": {},
   "outputs": [
    {
     "name": "stdout",
     "output_type": "stream",
     "text": [
      "10\n"
     ]
    }
   ],
   "source": [
    "s=round(data['Age'].std())\n",
    "print(s)"
   ]
  },
  {
   "cell_type": "markdown",
   "id": "8d396936",
   "metadata": {},
   "source": [
    "# Handle the Missing values."
   ]
  },
  {
   "cell_type": "code",
   "execution_count": 24,
   "id": "b06299c0",
   "metadata": {},
   "outputs": [
    {
     "data": {
      "text/plain": [
       "RowNumber          0\n",
       "CustomerId         0\n",
       "Surname            0\n",
       "CreditScore        0\n",
       "Geography          0\n",
       "Gender             0\n",
       "Age                0\n",
       "Tenure             0\n",
       "Balance            0\n",
       "NumOfProducts      0\n",
       "HasCrCard          0\n",
       "IsActiveMember     0\n",
       "EstimatedSalary    0\n",
       "Exited             0\n",
       "dtype: int64"
      ]
     },
     "execution_count": 24,
     "metadata": {},
     "output_type": "execute_result"
    }
   ],
   "source": [
    "\n",
    "data.isna().sum()"
   ]
  },
  {
   "cell_type": "markdown",
   "id": "c4249473",
   "metadata": {},
   "source": [
    "# Find the outliers and replace the outliers"
   ]
  },
  {
   "cell_type": "code",
   "execution_count": 25,
   "id": "24c97cbc",
   "metadata": {},
   "outputs": [
    {
     "data": {
      "text/plain": [
       "0       619\n",
       "1       608\n",
       "2       502\n",
       "3       699\n",
       "4       850\n",
       "       ... \n",
       "9995    771\n",
       "9996    516\n",
       "9997    709\n",
       "9998    772\n",
       "9999    792\n",
       "Name: CreditScore, Length: 10000, dtype: int64"
      ]
     },
     "execution_count": 25,
     "metadata": {},
     "output_type": "execute_result"
    }
   ],
   "source": [
    "CreditScores = data['CreditScore']\n",
    "CreditScores"
   ]
  },
  {
   "cell_type": "code",
   "execution_count": 26,
   "id": "e61fb4c9",
   "metadata": {},
   "outputs": [
    {
     "data": {
      "image/png": "[encoded data removed]",
      "text/plain": [
       "<Figure size 640x480 with 1 Axes>"
      ]
     },
     "metadata": {},
     "output_type": "display_data"
    }
   ],
   "source": [
    "import matplotlib.pyplot as plt\n",
    "plt.boxplot(data['CreditScore'],showmeans = True)\n",
    "plt.show()"
   ]
  },
  {
   "cell_type": "code",
   "execution_count": 27,
   "id": "63c23459",
   "metadata": {},
   "outputs": [
    {
     "name": "stdout",
     "output_type": "stream",
     "text": [
      "376\n",
      "376\n",
      "363\n",
      "359\n",
      "350\n",
      "350\n",
      "358\n",
      "351\n",
      "365\n",
      "367\n",
      "350\n",
      "350\n",
      "373\n",
      "350\n",
      "0       619\n",
      "1       608\n",
      "2       502\n",
      "3       699\n",
      "4       850\n",
      "       ... \n",
      "9995    771\n",
      "9996    516\n",
      "9997    709\n",
      "9998    772\n",
      "9999    792\n",
      "Name: CreditScore, Length: 10000, dtype: int64\n"
     ]
    }
   ],
   "source": [
    "df = data[data['CreditScore'] >= 378]\n",
    "for i in data['CreditScore']:\n",
    "    if(i<378):\n",
    "        print(i)\n",
    "print(data['CreditScore'])"
   ]
  },
  {
   "cell_type": "code",
   "execution_count": 28,
   "id": "b2c5c8a0",
   "metadata": {},
   "outputs": [
    {
     "data": {
      "text/plain": [
       "0            0.00\n",
       "1        83807.86\n",
       "2       159660.80\n",
       "3            0.00\n",
       "4       125510.82\n",
       "          ...    \n",
       "9995         0.00\n",
       "9996     57369.61\n",
       "9997         0.00\n",
       "9998     75075.31\n",
       "9999    130142.79\n",
       "Name: Balance, Length: 10000, dtype: float64"
      ]
     },
     "execution_count": 28,
     "metadata": {},
     "output_type": "execute_result"
    }
   ],
   "source": [
    "b = data['Balance']\n",
    "b"
   ]
  },
  {
   "cell_type": "code",
   "execution_count": 29,
   "id": "b4abb2ae",
   "metadata": {},
   "outputs": [
    {
     "data": {
      "image/png": "[encoded data removed]",
      "text/plain": [
       "<Figure size 640x480 with 1 Axes>"
      ]
     },
     "metadata": {},
     "output_type": "display_data"
    }
   ],
   "source": [
    "plt.boxplot(b)\n",
    "plt.show()"
   ]
  },
  {
   "cell_type": "code",
   "execution_count": 30,
   "id": "36cb068f",
   "metadata": {},
   "outputs": [
    {
     "data": {
      "text/plain": [
       "0       101348.88\n",
       "1       112542.58\n",
       "2       113931.57\n",
       "3        93826.63\n",
       "4        79084.10\n",
       "          ...    \n",
       "9995     96270.64\n",
       "9996    101699.77\n",
       "9997     42085.58\n",
       "9998     92888.52\n",
       "9999     38190.78\n",
       "Name: EstimatedSalary, Length: 9986, dtype: float64"
      ]
     },
     "execution_count": 30,
     "metadata": {},
     "output_type": "execute_result"
    }
   ],
   "source": [
    "e= df['EstimatedSalary']\n",
    "e"
   ]
  },
  {
   "cell_type": "code",
   "execution_count": 31,
   "id": "cc4ed96e",
   "metadata": {},
   "outputs": [
    {
     "data": {
      "image/png": "[encoded data removed]",
      "text/plain": [
       "<Figure size 640x480 with 1 Axes>"
      ]
     },
     "metadata": {},
     "output_type": "display_data"
    }
   ],
   "source": [
    "plt.boxplot(e) \n",
    "plt.show()"
   ]
  },
  {
   "cell_type": "code",
   "execution_count": 32,
   "id": "ca516520",
   "metadata": {},
   "outputs": [
    {
     "data": {
      "image/png": "[encoded data removed]",
      "text/plain": [
       "<Figure size 640x480 with 1 Axes>"
      ]
     },
     "metadata": {},
     "output_type": "display_data"
    }
   ],
   "source": [
    "a = data['Age']\n",
    "plt.boxplot(a)\n",
    "plt.show()"
   ]
  },
  {
   "cell_type": "code",
   "execution_count": 33,
   "id": "dd30e607",
   "metadata": {},
   "outputs": [
    {
     "data": {
      "text/plain": [
       "(array([  41,   43,   57,   84,  103,  157,  180,  229,  233,  242,  251,\n",
       "         275,  309,  363,  370,  384,  386,  398,  415,  483,  537,  558,\n",
       "         560,  566,  601,  611,  616,  629,  657,  677,  695,  735,  765,\n",
       "         768,  806,  810,  822,  858,  883,  887,  920,  927,  946,  950,\n",
       "         955,  961,  967,  995, 1007, 1037, 1038, 1053, 1112, 1116, 1190,\n",
       "        1202, 1231, 1232, 1243, 1249, 1275, 1282, 1325, 1339, 1384, 1403,\n",
       "        1406, 1429, 1435, 1453, 1515, 1539, 1584, 1603, 1610, 1637, 1785,\n",
       "        1805, 1852, 1860, 1895, 1898, 1901, 1927, 1974, 1989, 1995, 2005,\n",
       "        2032, 2046, 2071, 2087, 2096, 2101, 2147, 2152, 2157, 2237, 2254,\n",
       "        2267, 2291, 2294, 2426, 2431, 2451, 2452, 2511, 2512, 2525, 2533,\n",
       "        2545, 2590, 2606, 2650, 2661, 2704, 2708, 2751, 2763, 2768, 2769,\n",
       "        2772, 2782, 2846, 2868, 2892, 2899, 2916, 2917, 2999, 3024, 3045,\n",
       "        3101, 3133, 3157, 3183, 3194, 3220, 3296, 3299, 3302, 3305, 3308,\n",
       "        3337, 3357, 3359, 3369, 3373, 3375, 3378, 3387, 3394, 3425, 3453,\n",
       "        3488, 3490, 3518, 3522, 3532, 3540, 3550, 3554, 3564, 3566, 3584,\n",
       "        3593, 3632, 3637, 3638, 3642, 3681, 3682, 3693, 3710, 3719, 3724,\n",
       "        3752, 3765, 3804, 3817, 3871, 3872, 3879, 3900, 3901, 3918, 3931,\n",
       "        3938, 3971, 3985, 4001, 4016, 4039, 4042, 4086, 4133, 4138, 4148,\n",
       "        4153, 4161, 4232, 4235, 4247, 4264, 4271, 4288, 4304, 4309, 4326,\n",
       "        4351, 4357, 4369, 4378, 4387, 4426, 4429, 4454, 4481, 4482, 4492,\n",
       "        4497, 4550, 4554, 4581, 4586, 4635, 4669, 4689, 4738, 4742, 4792,\n",
       "        4806, 4823, 4840, 4922, 4938, 4957, 4983, 4991, 5011, 5024, 5029,\n",
       "        5059, 5123, 5127, 5139, 5150, 5188, 5214, 5216, 5226, 5246, 5290,\n",
       "        5304, 5359, 5368, 5396, 5430, 5448, 5481, 5499, 5505, 5511, 5567,\n",
       "        5568, 5572, 5630, 5642, 5646, 5651, 5655, 5662, 5674, 5689, 5733,\n",
       "        5768, 5774, 5808, 5816, 5831, 5858, 5898, 5948, 5987, 6037, 6107,\n",
       "        6143, 6157, 6158, 6162, 6164, 6203, 6221, 6269, 6280, 6306, 6348,\n",
       "        6357, 6364, 6366, 6401, 6434, 6506, 6521, 6523, 6572, 6603, 6617,\n",
       "        6697, 6700, 6706, 6712, 6750, 6754, 6803, 6890, 6961, 6988, 6999,\n",
       "        7048, 7049, 7054, 7062, 7069, 7085, 7129, 7130, 7133, 7147, 7185,\n",
       "        7193, 7229, 7234, 7263, 7293, 7353, 7366, 7383, 7490, 7505, 7514,\n",
       "        7517, 7539, 7543, 7614, 7615, 7620, 7659, 7678, 7683, 7685, 7700,\n",
       "        7706, 7710, 7711, 7718, 7764, 7767, 7775, 7779, 7793, 7804, 7842,\n",
       "        7885, 7889, 7900, 7924, 7947, 7986, 8010, 8028, 8085, 8089, 8146,\n",
       "        8160, 8183, 8197, 8205, 8207, 8294, 8311, 8375, 8384, 8434, 8448,\n",
       "        8457, 8459, 8468, 8478, 8552, 8558, 8567, 8592, 8664, 8676, 8679,\n",
       "        8701, 8748, 8750, 8751, 8756, 8775, 8781, 8810, 8853, 8888, 8905,\n",
       "        8918, 8958, 9006, 9009, 9050, 9068, 9090, 9100, 9104, 9150, 9162,\n",
       "        9211, 9249, 9267, 9272, 9280, 9297, 9306, 9309, 9312, 9320, 9321,\n",
       "        9339, 9367, 9378, 9389, 9412, 9415, 9425, 9459, 9477, 9493, 9542,\n",
       "        9544, 9569, 9574, 9576, 9580, 9582, 9632, 9657, 9659, 9667, 9672,\n",
       "        9674, 9704, 9719, 9720, 9722, 9733, 9739, 9751, 9818, 9865, 9880,\n",
       "        9883, 9922], dtype=int64),)"
      ]
     },
     "execution_count": 33,
     "metadata": {},
     "output_type": "execute_result"
    }
   ],
   "source": [
    "ageOutliers =  np.where(df['Age'] > 60)\n",
    "ageOutliers"
   ]
  },
  {
   "cell_type": "code",
   "execution_count": 34,
   "id": "b2ef9f8d",
   "metadata": {},
   "outputs": [
    {
     "data": {
      "text/html": [
       "<div>\n",
       "<style scoped>\n",
       "    .dataframe tbody tr th:only-of-type {\n",
       "        vertical-align: middle;\n",
       "    }\n",
       "\n",
       "    .dataframe tbody tr th {\n",
       "        vertical-align: top;\n",
       "    }\n",
       "\n",
       "    .dataframe thead th {\n",
       "        text-align: right;\n",
       "    }\n",
       "</style>\n",
       "<table border=\"1\" class=\"dataframe\">\n",
       "  <thead>\n",
       "    <tr style=\"text-align: right;\">\n",
       "      <th></th>\n",
       "      <th>RowNumber</th>\n",
       "      <th>CustomerId</th>\n",
       "      <th>Surname</th>\n",
       "      <th>CreditScore</th>\n",
       "      <th>Geography</th>\n",
       "      <th>Gender</th>\n",
       "      <th>Age</th>\n",
       "      <th>Tenure</th>\n",
       "      <th>Balance</th>\n",
       "      <th>NumOfProducts</th>\n",
       "      <th>HasCrCard</th>\n",
       "      <th>IsActiveMember</th>\n",
       "      <th>EstimatedSalary</th>\n",
       "      <th>Exited</th>\n",
       "    </tr>\n",
       "  </thead>\n",
       "  <tbody>\n",
       "    <tr>\n",
       "      <th>0</th>\n",
       "      <td>1</td>\n",
       "      <td>15634602</td>\n",
       "      <td>Hargrave</td>\n",
       "      <td>619</td>\n",
       "      <td>France</td>\n",
       "      <td>Female</td>\n",
       "      <td>42</td>\n",
       "      <td>2</td>\n",
       "      <td>0.00</td>\n",
       "      <td>1</td>\n",
       "      <td>1</td>\n",
       "      <td>1</td>\n",
       "      <td>101348.88</td>\n",
       "      <td>1</td>\n",
       "    </tr>\n",
       "    <tr>\n",
       "      <th>1</th>\n",
       "      <td>2</td>\n",
       "      <td>15647311</td>\n",
       "      <td>Hill</td>\n",
       "      <td>608</td>\n",
       "      <td>Spain</td>\n",
       "      <td>Female</td>\n",
       "      <td>41</td>\n",
       "      <td>1</td>\n",
       "      <td>83807.86</td>\n",
       "      <td>1</td>\n",
       "      <td>0</td>\n",
       "      <td>1</td>\n",
       "      <td>112542.58</td>\n",
       "      <td>0</td>\n",
       "    </tr>\n",
       "    <tr>\n",
       "      <th>2</th>\n",
       "      <td>3</td>\n",
       "      <td>15619304</td>\n",
       "      <td>Onio</td>\n",
       "      <td>502</td>\n",
       "      <td>France</td>\n",
       "      <td>Female</td>\n",
       "      <td>42</td>\n",
       "      <td>8</td>\n",
       "      <td>159660.80</td>\n",
       "      <td>3</td>\n",
       "      <td>1</td>\n",
       "      <td>0</td>\n",
       "      <td>113931.57</td>\n",
       "      <td>1</td>\n",
       "    </tr>\n",
       "    <tr>\n",
       "      <th>3</th>\n",
       "      <td>4</td>\n",
       "      <td>15701354</td>\n",
       "      <td>Boni</td>\n",
       "      <td>699</td>\n",
       "      <td>France</td>\n",
       "      <td>Female</td>\n",
       "      <td>39</td>\n",
       "      <td>1</td>\n",
       "      <td>0.00</td>\n",
       "      <td>2</td>\n",
       "      <td>0</td>\n",
       "      <td>0</td>\n",
       "      <td>93826.63</td>\n",
       "      <td>0</td>\n",
       "    </tr>\n",
       "    <tr>\n",
       "      <th>4</th>\n",
       "      <td>5</td>\n",
       "      <td>15737888</td>\n",
       "      <td>Mitchell</td>\n",
       "      <td>850</td>\n",
       "      <td>Spain</td>\n",
       "      <td>Female</td>\n",
       "      <td>43</td>\n",
       "      <td>2</td>\n",
       "      <td>125510.82</td>\n",
       "      <td>1</td>\n",
       "      <td>1</td>\n",
       "      <td>1</td>\n",
       "      <td>79084.10</td>\n",
       "      <td>0</td>\n",
       "    </tr>\n",
       "    <tr>\n",
       "      <th>...</th>\n",
       "      <td>...</td>\n",
       "      <td>...</td>\n",
       "      <td>...</td>\n",
       "      <td>...</td>\n",
       "      <td>...</td>\n",
       "      <td>...</td>\n",
       "      <td>...</td>\n",
       "      <td>...</td>\n",
       "      <td>...</td>\n",
       "      <td>...</td>\n",
       "      <td>...</td>\n",
       "      <td>...</td>\n",
       "      <td>...</td>\n",
       "      <td>...</td>\n",
       "    </tr>\n",
       "    <tr>\n",
       "      <th>9995</th>\n",
       "      <td>9996</td>\n",
       "      <td>15606229</td>\n",
       "      <td>Obijiaku</td>\n",
       "      <td>771</td>\n",
       "      <td>France</td>\n",
       "      <td>Male</td>\n",
       "      <td>39</td>\n",
       "      <td>5</td>\n",
       "      <td>0.00</td>\n",
       "      <td>2</td>\n",
       "      <td>1</td>\n",
       "      <td>0</td>\n",
       "      <td>96270.64</td>\n",
       "      <td>0</td>\n",
       "    </tr>\n",
       "    <tr>\n",
       "      <th>9996</th>\n",
       "      <td>9997</td>\n",
       "      <td>15569892</td>\n",
       "      <td>Johnstone</td>\n",
       "      <td>516</td>\n",
       "      <td>France</td>\n",
       "      <td>Male</td>\n",
       "      <td>35</td>\n",
       "      <td>10</td>\n",
       "      <td>57369.61</td>\n",
       "      <td>1</td>\n",
       "      <td>1</td>\n",
       "      <td>1</td>\n",
       "      <td>101699.77</td>\n",
       "      <td>0</td>\n",
       "    </tr>\n",
       "    <tr>\n",
       "      <th>9997</th>\n",
       "      <td>9998</td>\n",
       "      <td>15584532</td>\n",
       "      <td>Liu</td>\n",
       "      <td>709</td>\n",
       "      <td>France</td>\n",
       "      <td>Female</td>\n",
       "      <td>36</td>\n",
       "      <td>7</td>\n",
       "      <td>0.00</td>\n",
       "      <td>1</td>\n",
       "      <td>0</td>\n",
       "      <td>1</td>\n",
       "      <td>42085.58</td>\n",
       "      <td>1</td>\n",
       "    </tr>\n",
       "    <tr>\n",
       "      <th>9998</th>\n",
       "      <td>9999</td>\n",
       "      <td>15682355</td>\n",
       "      <td>Sabbatini</td>\n",
       "      <td>772</td>\n",
       "      <td>Germany</td>\n",
       "      <td>Male</td>\n",
       "      <td>42</td>\n",
       "      <td>3</td>\n",
       "      <td>75075.31</td>\n",
       "      <td>2</td>\n",
       "      <td>1</td>\n",
       "      <td>0</td>\n",
       "      <td>92888.52</td>\n",
       "      <td>1</td>\n",
       "    </tr>\n",
       "    <tr>\n",
       "      <th>9999</th>\n",
       "      <td>10000</td>\n",
       "      <td>15628319</td>\n",
       "      <td>Walker</td>\n",
       "      <td>792</td>\n",
       "      <td>France</td>\n",
       "      <td>Female</td>\n",
       "      <td>28</td>\n",
       "      <td>4</td>\n",
       "      <td>130142.79</td>\n",
       "      <td>1</td>\n",
       "      <td>1</td>\n",
       "      <td>0</td>\n",
       "      <td>38190.78</td>\n",
       "      <td>0</td>\n",
       "    </tr>\n",
       "  </tbody>\n",
       "</table>\n",
       "<p>9536 rows × 14 columns</p>\n",
       "</div>"
      ],
      "text/plain": [
       "      RowNumber  CustomerId    Surname  CreditScore Geography  Gender  Age  \\\n",
       "0             1    15634602   Hargrave          619    France  Female   42   \n",
       "1             2    15647311       Hill          608     Spain  Female   41   \n",
       "2             3    15619304       Onio          502    France  Female   42   \n",
       "3             4    15701354       Boni          699    France  Female   39   \n",
       "4             5    15737888   Mitchell          850     Spain  Female   43   \n",
       "...         ...         ...        ...          ...       ...     ...  ...   \n",
       "9995       9996    15606229   Obijiaku          771    France    Male   39   \n",
       "9996       9997    15569892  Johnstone          516    France    Male   35   \n",
       "9997       9998    15584532        Liu          709    France  Female   36   \n",
       "9998       9999    15682355  Sabbatini          772   Germany    Male   42   \n",
       "9999      10000    15628319     Walker          792    France  Female   28   \n",
       "\n",
       "      Tenure    Balance  NumOfProducts  HasCrCard  IsActiveMember  \\\n",
       "0          2       0.00              1          1               1   \n",
       "1          1   83807.86              1          0               1   \n",
       "2          8  159660.80              3          1               0   \n",
       "3          1       0.00              2          0               0   \n",
       "4          2  125510.82              1          1               1   \n",
       "...      ...        ...            ...        ...             ...   \n",
       "9995       5       0.00              2          1               0   \n",
       "9996      10   57369.61              1          1               1   \n",
       "9997       7       0.00              1          0               1   \n",
       "9998       3   75075.31              2          1               0   \n",
       "9999       4  130142.79              1          1               0   \n",
       "\n",
       "      EstimatedSalary  Exited  \n",
       "0           101348.88       1  \n",
       "1           112542.58       0  \n",
       "2           113931.57       1  \n",
       "3            93826.63       0  \n",
       "4            79084.10       0  \n",
       "...               ...     ...  \n",
       "9995         96270.64       0  \n",
       "9996        101699.77       0  \n",
       "9997         42085.58       1  \n",
       "9998         92888.52       1  \n",
       "9999         38190.78       0  \n",
       "\n",
       "[9536 rows x 14 columns]"
      ]
     },
     "execution_count": 34,
     "metadata": {},
     "output_type": "execute_result"
    }
   ],
   "source": [
    "da = data[data['Age'] <=60 ]\n",
    "da"
   ]
  },
  {
   "cell_type": "markdown",
   "id": "77fa5fd4",
   "metadata": {},
   "source": [
    "# Check for Categorical columns and perform encoding."
   ]
  },
  {
   "cell_type": "code",
   "execution_count": 35,
   "id": "55858752",
   "metadata": {},
   "outputs": [
    {
     "data": {
      "text/plain": [
       "['Surname', 'Geography', 'Gender']"
      ]
     },
     "execution_count": 35,
     "metadata": {},
     "output_type": "execute_result"
    }
   ],
   "source": [
    "from pandas.api.types import is_string_dtype\n",
    "continuous=[]\n",
    "categorical=[]\n",
    "for data1 in data:\n",
    "    if is_string_dtype(data[data1]):\n",
    "        categorical.append(data1)\n",
    "    else:\n",
    "        continuous.append(data1)\n",
    "categorical"
   ]
  },
  {
   "cell_type": "markdown",
   "id": "91b52761",
   "metadata": {},
   "source": [
    "# Split the data into dependent and independent variables."
   ]
  },
  {
   "cell_type": "code",
   "execution_count": 36,
   "id": "4a4231b5",
   "metadata": {},
   "outputs": [
    {
     "name": "stdout",
     "output_type": "stream",
     "text": [
      "[[    1]\n",
      " [    2]\n",
      " [    3]\n",
      " ...\n",
      " [ 9998]\n",
      " [ 9999]\n",
      " [10000]]\n",
      "0       15634602\n",
      "1       15647311\n",
      "2       15619304\n",
      "3       15701354\n",
      "4       15737888\n",
      "          ...   \n",
      "9995    15606229\n",
      "9996    15569892\n",
      "9997    15584532\n",
      "9998    15682355\n",
      "9999    15628319\n",
      "Name: CustomerId, Length: 10000, dtype: int64\n"
     ]
    }
   ],
   "source": [
    "x = data.iloc[:, 0:1].values\n",
    "y = data.iloc[:, 1]\n",
    "print(x)\n",
    "print(y)"
   ]
  },
  {
   "cell_type": "markdown",
   "id": "6c9f6c81",
   "metadata": {},
   "source": [
    "# Scale the independent variables"
   ]
  },
  {
   "cell_type": "code",
   "execution_count": 37,
   "id": "e4e3629c",
   "metadata": {},
   "outputs": [],
   "source": [
    "from sklearn.preprocessing import StandardScaler\n",
    "sc = StandardScaler()\n",
    "X_train = sc.fit_transform(x)\n",
    "X_test = sc.transform(x)"
   ]
  },
  {
   "cell_type": "markdown",
   "id": "71d911b7",
   "metadata": {},
   "source": [
    "# Split the data into training and testing"
   ]
  },
  {
   "cell_type": "code",
   "execution_count": 38,
   "id": "d3db82c6",
   "metadata": {},
   "outputs": [],
   "source": [
    "from sklearn.model_selection import train_test_split\n",
    "X_train, X_test, y_train, y_test=train_test_split(data,y,test_size=0.2)"
   ]
  },
  {
   "cell_type": "code",
   "execution_count": 39,
   "id": "f467eaf8",
   "metadata": {},
   "outputs": [
    {
     "name": "stdout",
     "output_type": "stream",
     "text": [
      "      RowNumber  CustomerId    Surname  CreditScore Geography  Gender  Age  \\\n",
      "8403       8404    15707219     Hopman          844    France  Female   28   \n",
      "8807       8808    15669783    Simpson          586    France  Female   60   \n",
      "4951       4952    15649793     Lovely          658    France    Male   20   \n",
      "2595       2596    15737310   Thompson          633    France    Male   29   \n",
      "7984       7985    15678206        Yeh          464    France    Male   46   \n",
      "...         ...         ...        ...          ...       ...     ...  ...   \n",
      "6311       6312    15798429  Hernandez          741    France    Male   29   \n",
      "6333       6334    15623744     McLean          634    France    Male   34   \n",
      "1474       1475    15598782      Pinto          755   Germany  Female   30   \n",
      "4141       4142    15790596      Moran          850     Spain    Male   39   \n",
      "6507       6508    15764253     Ramsey          742    France    Male   32   \n",
      "\n",
      "      Tenure    Balance  NumOfProducts  HasCrCard  IsActiveMember  \\\n",
      "8403       4       0.00              2          0               1   \n",
      "8807       3   47020.65              2          0               1   \n",
      "4951       7       0.00              2          0               0   \n",
      "2595      10  130206.28              1          1               0   \n",
      "7984       6  161798.53              1          1               0   \n",
      "...      ...        ...            ...        ...             ...   \n",
      "6311       8       0.00              2          1               1   \n",
      "6333       8  105302.66              1          1               1   \n",
      "1474       6  154221.37              2          0               1   \n",
      "4141       0  141829.67              1          1               1   \n",
      "6507       6  160485.16              1          1               0   \n",
      "\n",
      "      EstimatedSalary  Exited  \n",
      "8403        123318.37       0  \n",
      "8807         63241.21       1  \n",
      "4951        187638.34       0  \n",
      "2595        184654.87       0  \n",
      "7984        182944.47       0  \n",
      "...               ...     ...  \n",
      "6311        115994.52       0  \n",
      "6333        123164.97       0  \n",
      "1474         62688.55       0  \n",
      "4141         92748.16       0  \n",
      "6507         29023.03       0  \n",
      "\n",
      "[8000 rows x 14 columns]\n"
     ]
    }
   ],
   "source": [
    "print(X_train)"
   ]
  },
  {
   "cell_type": "code",
   "execution_count": 40,
   "id": "094f44be",
   "metadata": {},
   "outputs": [
    {
     "name": "stdout",
     "output_type": "stream",
     "text": [
      "      RowNumber  CustomerId        Surname  CreditScore Geography  Gender  \\\n",
      "3347       3348    15694510  Ifeanyichukwu          725    France    Male   \n",
      "4688       4689    15669606            Chu          690    France    Male   \n",
      "4575       4576    15756926       Atherton          833   Germany    Male   \n",
      "2071       2072    15697214        Korovin          686     Spain  Female   \n",
      "3232       3233    15814553           Ball          559    France  Female   \n",
      "...         ...         ...            ...          ...       ...     ...   \n",
      "7812       7813    15695280           Hung          532   Germany    Male   \n",
      "6998       6999    15640074        Barrett          666     Spain  Female   \n",
      "7778       7779    15697034         Norris          583     Spain  Female   \n",
      "4854       4855    15574071      Muravyova          706   Germany    Male   \n",
      "3292       3293    15757632   Hughes-Jones          496    France  Female   \n",
      "\n",
      "      Age  Tenure    Balance  NumOfProducts  HasCrCard  IsActiveMember  \\\n",
      "3347   45       1  129855.32              1          0               0   \n",
      "4688   33       5       0.00              2          1               0   \n",
      "4575   29       1   96462.25              2          0               1   \n",
      "2071   36       5       0.00              2          1               1   \n",
      "3232   34       5   68999.66              2          1               1   \n",
      "...   ...     ...        ...            ...        ...             ...   \n",
      "7812   24       8  142755.25              1          0               0   \n",
      "6998   47       5       0.00              1          0               0   \n",
      "7778   22       2       0.00              2          0               1   \n",
      "4854   23       2   93301.97              2          0               1   \n",
      "3292   41       1  176024.05              2          1               0   \n",
      "\n",
      "      EstimatedSalary  Exited  \n",
      "3347         24218.65       0  \n",
      "4688        138017.68       0  \n",
      "4575         48986.18       0  \n",
      "2071        152979.14       0  \n",
      "3232         66879.27       0  \n",
      "...               ...     ...  \n",
      "7812         34231.48       0  \n",
      "6998        166650.90       1  \n",
      "7778          5985.36       0  \n",
      "4854        127187.04       0  \n",
      "3292        182337.98       0  \n",
      "\n",
      "[2000 rows x 14 columns]\n"
     ]
    }
   ],
   "source": [
    "print(X_test)"
   ]
  },
  {
   "cell_type": "code",
   "execution_count": 41,
   "id": "20262bf8",
   "metadata": {},
   "outputs": [
    {
     "name": "stdout",
     "output_type": "stream",
     "text": [
      "8403    15707219\n",
      "8807    15669783\n",
      "4951    15649793\n",
      "2595    15737310\n",
      "7984    15678206\n",
      "          ...   \n",
      "6311    15798429\n",
      "6333    15623744\n",
      "1474    15598782\n",
      "4141    15790596\n",
      "6507    15764253\n",
      "Name: CustomerId, Length: 8000, dtype: int64\n"
     ]
    }
   ],
   "source": [
    "print(y_train)"
   ]
  },
  {
   "cell_type": "code",
   "execution_count": 42,
   "id": "1b61a4b4",
   "metadata": {},
   "outputs": [
    {
     "name": "stdout",
     "output_type": "stream",
     "text": [
      "3347    15694510\n",
      "4688    15669606\n",
      "4575    15756926\n",
      "2071    15697214\n",
      "3232    15814553\n",
      "          ...   \n",
      "7812    15695280\n",
      "6998    15640074\n",
      "7778    15697034\n",
      "4854    15574071\n",
      "3292    15757632\n",
      "Name: CustomerId, Length: 2000, dtype: int64\n"
     ]
    }
   ],
   "source": [
    "print(y_test)"
   ]
  },
  {
   "cell_type": "code",
   "execution_count": null,
   "id": "385ee8e0",
   "metadata": {},
   "outputs": [],
   "source": []
  }
 ],
 "metadata": {
  "kernelspec": {
   "display_name": "Python 3 (ipykernel)",
   "language": "python",
   "name": "python3"
  },
  "language_info": {
   "codemirror_mode": {
    "name": "ipython",
    "version": 3
   },
   "file_extension": ".py",
   "mimetype": "text/x-python",
   "name": "python",
   "nbconvert_exporter": "python",
   "pygments_lexer": "ipython3",
   "version": "3.10.4"
  }
 },
 "nbformat": 4,
 "nbformat_minor": 5
}
